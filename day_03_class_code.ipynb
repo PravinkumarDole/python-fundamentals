{
 "cells": [
  {
   "cell_type": "markdown",
   "id": "bd2ef21b",
   "metadata": {},
   "source": [
    "# Loop"
   ]
  },
  {
   "cell_type": "code",
   "execution_count": 5,
   "id": "83b095f0",
   "metadata": {},
   "outputs": [],
   "source": [
    "l=[38, 83, 89,23, 45, 24]"
   ]
  },
  {
   "cell_type": "code",
   "execution_count": 2,
   "id": "b2515810",
   "metadata": {},
   "outputs": [
    {
     "data": {
      "text/plain": [
       "[38, 83, 89, 23, 45, 24]"
      ]
     },
     "execution_count": 2,
     "metadata": {},
     "output_type": "execute_result"
    }
   ],
   "source": [
    "l"
   ]
  },
  {
   "cell_type": "code",
   "execution_count": 3,
   "id": "d18b6b08",
   "metadata": {},
   "outputs": [
    {
     "data": {
      "text/plain": [
       "89"
      ]
     },
     "execution_count": 3,
     "metadata": {},
     "output_type": "execute_result"
    }
   ],
   "source": [
    "l[2]"
   ]
  },
  {
   "cell_type": "code",
   "execution_count": 4,
   "id": "df6e0a94",
   "metadata": {},
   "outputs": [
    {
     "data": {
      "text/plain": [
       "83"
      ]
     },
     "execution_count": 4,
     "metadata": {},
     "output_type": "execute_result"
    }
   ],
   "source": [
    "l[1]"
   ]
  },
  {
   "cell_type": "markdown",
   "id": "3ffc7e80",
   "metadata": {},
   "source": [
    "# 1. Loop: for"
   ]
  },
  {
   "cell_type": "code",
   "execution_count": null,
   "id": "0a923f7c",
   "metadata": {},
   "outputs": [],
   "source": [
    "for <index> in <iterator>:\n",
    "    print(index)\n",
    "    print(index)\n",
    "    print(index)\n",
    "    print(index)\n",
    "    print(index)"
   ]
  },
  {
   "cell_type": "code",
   "execution_count": 6,
   "id": "79cbd74b",
   "metadata": {},
   "outputs": [
    {
     "data": {
      "text/plain": [
       "6"
      ]
     },
     "execution_count": 6,
     "metadata": {},
     "output_type": "execute_result"
    }
   ],
   "source": [
    "len(l)"
   ]
  },
  {
   "cell_type": "code",
   "execution_count": 8,
   "id": "93299c71",
   "metadata": {},
   "outputs": [
    {
     "data": {
      "text/plain": [
       "range(0, 10)"
      ]
     },
     "execution_count": 8,
     "metadata": {},
     "output_type": "execute_result"
    }
   ],
   "source": [
    "range(0, 10)"
   ]
  },
  {
   "cell_type": "code",
   "execution_count": 10,
   "id": "307cfa38",
   "metadata": {},
   "outputs": [
    {
     "name": "stdout",
     "output_type": "stream",
     "text": [
      "0\n",
      "1\n",
      "2\n",
      "3\n",
      "4\n"
     ]
    }
   ],
   "source": [
    "for i in range(0, 5):\n",
    "    print(i)"
   ]
  },
  {
   "cell_type": "code",
   "execution_count": 11,
   "id": "2536a8d7",
   "metadata": {},
   "outputs": [
    {
     "data": {
      "text/plain": [
       "[38, 83, 89, 23, 45, 24]"
      ]
     },
     "execution_count": 11,
     "metadata": {},
     "output_type": "execute_result"
    }
   ],
   "source": [
    "l"
   ]
  },
  {
   "cell_type": "code",
   "execution_count": 12,
   "id": "a0ff3137",
   "metadata": {},
   "outputs": [
    {
     "data": {
      "text/plain": [
       "6"
      ]
     },
     "execution_count": 12,
     "metadata": {},
     "output_type": "execute_result"
    }
   ],
   "source": [
    "len(l)"
   ]
  },
  {
   "cell_type": "code",
   "execution_count": 14,
   "id": "baa03e4f",
   "metadata": {},
   "outputs": [
    {
     "name": "stdout",
     "output_type": "stream",
     "text": [
      "38\n",
      "83\n",
      "89\n",
      "23\n",
      "45\n",
      "24\n"
     ]
    }
   ],
   "source": [
    "for i in range(0,6):\n",
    "    print(l[i])"
   ]
  },
  {
   "cell_type": "code",
   "execution_count": 16,
   "id": "6a8a7f2e",
   "metadata": {},
   "outputs": [
    {
     "name": "stdout",
     "output_type": "stream",
     "text": [
      "38\n",
      "83\n",
      "89\n",
      "23\n",
      "45\n",
      "24\n"
     ]
    }
   ],
   "source": [
    "for i in range(0, len(l)):\n",
    "    print(l[i])"
   ]
  },
  {
   "cell_type": "markdown",
   "id": "14d1d918",
   "metadata": {},
   "source": [
    "# Sum of number in list"
   ]
  },
  {
   "cell_type": "code",
   "execution_count": 17,
   "id": "87e0314c",
   "metadata": {},
   "outputs": [
    {
     "data": {
      "text/plain": [
       "[38, 83, 89, 23, 45, 24]"
      ]
     },
     "execution_count": 17,
     "metadata": {},
     "output_type": "execute_result"
    }
   ],
   "source": [
    "l"
   ]
  },
  {
   "cell_type": "code",
   "execution_count": 18,
   "id": "69fa5386",
   "metadata": {},
   "outputs": [
    {
     "name": "stdout",
     "output_type": "stream",
     "text": [
      "302\n"
     ]
    }
   ],
   "source": [
    "sum=0\n",
    "\n",
    "for i in range(0, len(l)):\n",
    "    sum= sum +l[i]\n",
    "    \n",
    "print(sum)"
   ]
  },
  {
   "cell_type": "markdown",
   "id": "10ece138",
   "metadata": {},
   "source": [
    "# Print the pattern"
   ]
  },
  {
   "cell_type": "code",
   "execution_count": 19,
   "id": "4ae0791f",
   "metadata": {},
   "outputs": [
    {
     "name": "stdout",
     "output_type": "stream",
     "text": [
      "i\n",
      "n\n",
      "d\n",
      "i\n",
      "a\n"
     ]
    }
   ],
   "source": [
    "    word = \"india\"\n",
    "    \n",
    "    for letter in word:\n",
    "        print(letter)"
   ]
  },
  {
   "cell_type": "markdown",
   "id": "eb16b83c",
   "metadata": {},
   "source": [
    "# Multiiplication Table"
   ]
  },
  {
   "cell_type": "code",
   "execution_count": 20,
   "id": "8e7c7de9",
   "metadata": {},
   "outputs": [
    {
     "name": "stdout",
     "output_type": "stream",
     "text": [
      "1005890 x 1 = 1005890\n",
      "1005890 x 2 = 2011780\n",
      "1005890 x 3 = 3017670\n",
      "1005890 x 4 = 4023560\n",
      "1005890 x 5 = 5029450\n",
      "1005890 x 6 = 6035340\n",
      "1005890 x 7 = 7041230\n",
      "1005890 x 8 = 8047120\n",
      "1005890 x 9 = 9053010\n",
      "1005890 x 10 = 10058900\n"
     ]
    }
   ],
   "source": [
    "    n = 1005890\n",
    "    \n",
    "    for i in range(1, 11):\n",
    "        print(f\"{n} x {i} = {n*i}\")"
   ]
  },
  {
   "cell_type": "code",
   "execution_count": 21,
   "id": "2a825ade",
   "metadata": {},
   "outputs": [
    {
     "name": "stdout",
     "output_type": "stream",
     "text": [
      "jfskdkas:5 3\n"
     ]
    }
   ],
   "source": [
    "n=5\n",
    "i=3\n",
    "print(f\"jfskdkas:{n} {i}\")"
   ]
  },
  {
   "cell_type": "markdown",
   "id": "48f665e3",
   "metadata": {},
   "source": [
    "# Factorial of number"
   ]
  },
  {
   "cell_type": "code",
   "execution_count": 26,
   "id": "b94b407f",
   "metadata": {},
   "outputs": [
    {
     "name": "stdout",
     "output_type": "stream",
     "text": [
      "120\n"
     ]
    }
   ],
   "source": [
    "    result = 1\n",
    "    n = 5\n",
    "    \n",
    "    for i in range(1, n+1):\n",
    "        result = result * i\n",
    "        \n",
    "    print(result)"
   ]
  },
  {
   "cell_type": "code",
   "execution_count": 27,
   "id": "418b3dab",
   "metadata": {},
   "outputs": [
    {
     "name": "stdout",
     "output_type": "stream",
     "text": [
      "Enter a number whose factorial we want to find   :5\n",
      "120\n"
     ]
    }
   ],
   "source": [
    "    n = int(input(\"Enter a number whose factorial we want to find   :\"))\n",
    "    fact = 1\n",
    "    \n",
    "    for i in range(1, n+1):\n",
    "        fact = fact*i\n",
    "        \n",
    "    print(fact)"
   ]
  },
  {
   "cell_type": "code",
   "execution_count": 32,
   "id": "43e8be6f",
   "metadata": {},
   "outputs": [
    {
     "name": "stdout",
     "output_type": "stream",
     "text": [
      "Enter a number whose factorial we want to find   :10\n",
      "3628800\n"
     ]
    }
   ],
   "source": [
    "n = int(input(\"Enter a number whose factorial we want to find   :\"))\n",
    "fact = 1\n",
    "    \n",
    "for i in range(1, n+1):\n",
    "        fact = fact * i\n",
    "        \n",
    "print(fact)"
   ]
  },
  {
   "cell_type": "markdown",
   "id": "911327b6",
   "metadata": {},
   "source": [
    "# 2. Loop: while"
   ]
  },
  {
   "cell_type": "code",
   "execution_count": null,
   "id": "96bb4204",
   "metadata": {},
   "outputs": [],
   "source": [
    "    while <condition>:\n",
    "        print()"
   ]
  },
  {
   "cell_type": "code",
   "execution_count": 33,
   "id": "a2a90549",
   "metadata": {},
   "outputs": [
    {
     "name": "stdout",
     "output_type": "stream",
     "text": [
      " * \n",
      " *  * \n",
      " *  *  * \n",
      " *  *  *  * \n",
      " *  *  *  *  * \n"
     ]
    }
   ],
   "source": [
    "    n=5\n",
    "    i=1\n",
    "    \n",
    "    while i <= n:\n",
    "        \n",
    "        print(\" * \" * i)\n",
    "        \n",
    "        i = i + 1"
   ]
  },
  {
   "cell_type": "code",
   "execution_count": 38,
   "id": "00059828",
   "metadata": {},
   "outputs": [
    {
     "name": "stdout",
     "output_type": "stream",
     "text": [
      " *  *  *  *  * \n",
      " *  *  *  * \n",
      " *  *  * \n",
      " *  * \n",
      " * \n"
     ]
    }
   ],
   "source": [
    "    n=5\n",
    "    i=n\n",
    "    \n",
    "    while i >= 1:\n",
    "        \n",
    "        print(\" * \" * i)\n",
    "        \n",
    "        i = i - 1"
   ]
  },
  {
   "cell_type": "code",
   "execution_count": 41,
   "id": "4c6f8d34",
   "metadata": {},
   "outputs": [
    {
     "name": "stdout",
     "output_type": "stream",
     "text": [
      " * \n",
      " *  * \n",
      " *  *  * \n",
      " *  *  *  * \n",
      " *  *  *  *  * \n",
      " *  *  *  * \n",
      " *  *  * \n",
      " *  * \n",
      " * \n"
     ]
    }
   ],
   "source": [
    "    n=5\n",
    "    i=1\n",
    "    \n",
    "    while i <= n:\n",
    "        \n",
    "        print(\" * \" * i)\n",
    "        \n",
    "        i = i + 1\n",
    "    \n",
    "    n=4\n",
    "    j=n\n",
    "    \n",
    "    while j >= 1:\n",
    "        \n",
    "        print(\" * \" * j)\n",
    "        \n",
    "        j = j - 1"
   ]
  },
  {
   "cell_type": "markdown",
   "id": "bed4317a",
   "metadata": {},
   "source": [
    "# Pattern Print"
   ]
  },
  {
   "cell_type": "code",
   "execution_count": 2,
   "id": "4eee703f",
   "metadata": {},
   "outputs": [
    {
     "name": "stdout",
     "output_type": "stream",
     "text": [
      "P\n",
      "Y\n",
      "T\n",
      "H\n",
      "O\n",
      "N\n",
      " \n",
      "I\n",
      "N\n",
      "D\n",
      "I\n",
      "A\n"
     ]
    }
   ],
   "source": [
    "    string = \"PYTHON INDIA\"\n",
    "    index = 0\n",
    "    \n",
    "    while index < len(string):\n",
    "        print(string[index])\n",
    "        \n",
    "        index += 1"
   ]
  },
  {
   "cell_type": "markdown",
   "id": "27687b67",
   "metadata": {},
   "source": [
    "# Print the number n to 1"
   ]
  },
  {
   "cell_type": "code",
   "execution_count": 17,
   "id": "3cf39c6a",
   "metadata": {},
   "outputs": [
    {
     "name": "stdout",
     "output_type": "stream",
     "text": [
      "Enter number= 10\n",
      "0\n",
      "1\n",
      "2\n",
      "3\n",
      "4\n",
      "5\n",
      "6\n",
      "7\n",
      "8\n",
      "9\n"
     ]
    }
   ],
   "source": [
    "s=int(input('Enter number= '))\n",
    "i=1\n",
    "for i in range(s):\n",
    "    print(i)"
   ]
  },
  {
   "cell_type": "code",
   "execution_count": 18,
   "id": "0ac75440",
   "metadata": {},
   "outputs": [
    {
     "name": "stdout",
     "output_type": "stream",
     "text": [
      "5\n",
      "4\n",
      "3\n",
      "2\n",
      "1\n",
      "0\n"
     ]
    }
   ],
   "source": [
    "num=5\n",
    "while num >= 0:\n",
    "    print(num)\n",
    "    num -=1"
   ]
  },
  {
   "cell_type": "code",
   "execution_count": 19,
   "id": "a735e903",
   "metadata": {},
   "outputs": [],
   "source": [
    "def test1():\n",
    "    sum=1+3\n",
    "    return sum"
   ]
  },
  {
   "cell_type": "code",
   "execution_count": 20,
   "id": "778eec9c",
   "metadata": {},
   "outputs": [
    {
     "data": {
      "text/plain": [
       "4"
      ]
     },
     "execution_count": 20,
     "metadata": {},
     "output_type": "execute_result"
    }
   ],
   "source": [
    "test1()"
   ]
  },
  {
   "cell_type": "code",
   "execution_count": 21,
   "id": "307d1252",
   "metadata": {},
   "outputs": [],
   "source": [
    "result=test1()"
   ]
  },
  {
   "cell_type": "code",
   "execution_count": 22,
   "id": "c4f40047",
   "metadata": {},
   "outputs": [
    {
     "name": "stdout",
     "output_type": "stream",
     "text": [
      "4\n"
     ]
    }
   ],
   "source": [
    "print(result)"
   ]
  },
  {
   "cell_type": "code",
   "execution_count": 23,
   "id": "d8064d8d",
   "metadata": {},
   "outputs": [
    {
     "data": {
      "text/plain": [
       "int"
      ]
     },
     "execution_count": 23,
     "metadata": {},
     "output_type": "execute_result"
    }
   ],
   "source": [
    "type(result)"
   ]
  },
  {
   "cell_type": "code",
   "execution_count": 24,
   "id": "c084392b",
   "metadata": {},
   "outputs": [],
   "source": [
    "def greet():\n",
    "    print(\"Hello\")"
   ]
  },
  {
   "cell_type": "code",
   "execution_count": 25,
   "id": "3dc8c614",
   "metadata": {},
   "outputs": [
    {
     "name": "stdout",
     "output_type": "stream",
     "text": [
      "Hello\n"
     ]
    }
   ],
   "source": [
    "greet()"
   ]
  },
  {
   "cell_type": "code",
   "execution_count": 26,
   "id": "d62a1ec5",
   "metadata": {},
   "outputs": [
    {
     "name": "stdout",
     "output_type": "stream",
     "text": [
      "Hello\n"
     ]
    }
   ],
   "source": [
    "result=greet()"
   ]
  },
  {
   "cell_type": "code",
   "execution_count": 27,
   "id": "b40ddfc2",
   "metadata": {},
   "outputs": [
    {
     "name": "stdout",
     "output_type": "stream",
     "text": [
      "None\n"
     ]
    }
   ],
   "source": [
    "print(result)"
   ]
  },
  {
   "cell_type": "code",
   "execution_count": 28,
   "id": "fb16f845",
   "metadata": {},
   "outputs": [
    {
     "data": {
      "text/plain": [
       "NoneType"
      ]
     },
     "execution_count": 28,
     "metadata": {},
     "output_type": "execute_result"
    }
   ],
   "source": [
    "type(result)"
   ]
  },
  {
   "cell_type": "code",
   "execution_count": 29,
   "id": "01c95b03",
   "metadata": {},
   "outputs": [],
   "source": [
    "def test3():\n",
    "    li=[1,2,3]\n",
    "    return li"
   ]
  },
  {
   "cell_type": "code",
   "execution_count": 30,
   "id": "660cf4fa",
   "metadata": {},
   "outputs": [],
   "source": [
    "result=test3()"
   ]
  },
  {
   "cell_type": "code",
   "execution_count": 31,
   "id": "19aeb642",
   "metadata": {},
   "outputs": [
    {
     "name": "stdout",
     "output_type": "stream",
     "text": [
      "[1, 2, 3]\n"
     ]
    }
   ],
   "source": [
    "print(result)"
   ]
  },
  {
   "cell_type": "code",
   "execution_count": 32,
   "id": "f8f67bfa",
   "metadata": {},
   "outputs": [
    {
     "data": {
      "text/plain": [
       "3"
      ]
     },
     "execution_count": 32,
     "metadata": {},
     "output_type": "execute_result"
    }
   ],
   "source": [
    "len(result)"
   ]
  },
  {
   "cell_type": "code",
   "execution_count": 35,
   "id": "3c587c2b",
   "metadata": {},
   "outputs": [],
   "source": [
    "def test5():\n",
    "    name=\"Pravin\"\n",
    "    return name"
   ]
  },
  {
   "cell_type": "code",
   "execution_count": 36,
   "id": "e78eb624",
   "metadata": {},
   "outputs": [],
   "source": [
    "name=test5()"
   ]
  },
  {
   "cell_type": "code",
   "execution_count": 37,
   "id": "ce11b828",
   "metadata": {},
   "outputs": [
    {
     "data": {
      "text/plain": [
       "'Pravin'"
      ]
     },
     "execution_count": 37,
     "metadata": {},
     "output_type": "execute_result"
    }
   ],
   "source": [
    "name"
   ]
  },
  {
   "cell_type": "code",
   "execution_count": 38,
   "id": "96cd4da4",
   "metadata": {},
   "outputs": [
    {
     "data": {
      "text/plain": [
       "'PravinDole'"
      ]
     },
     "execution_count": 38,
     "metadata": {},
     "output_type": "execute_result"
    }
   ],
   "source": [
    "test5() + \"Dole\""
   ]
  },
  {
   "cell_type": "code",
   "execution_count": 39,
   "id": "69d28c5d",
   "metadata": {},
   "outputs": [
    {
     "data": {
      "text/plain": [
       "'Pravin Dole'"
      ]
     },
     "execution_count": 39,
     "metadata": {},
     "output_type": "execute_result"
    }
   ],
   "source": [
    "test5() + \" Dole\""
   ]
  },
  {
   "cell_type": "code",
   "execution_count": 41,
   "id": "888c0c17",
   "metadata": {},
   "outputs": [],
   "source": [
    "def test6():\n",
    "    return 2, 3, 4"
   ]
  },
  {
   "cell_type": "code",
   "execution_count": 43,
   "id": "d50d21d2",
   "metadata": {},
   "outputs": [
    {
     "data": {
      "text/plain": [
       "(2, 3, 4)"
      ]
     },
     "execution_count": 43,
     "metadata": {},
     "output_type": "execute_result"
    }
   ],
   "source": [
    "test6()"
   ]
  },
  {
   "cell_type": "code",
   "execution_count": 44,
   "id": "fa642412",
   "metadata": {},
   "outputs": [],
   "source": [
    "def test6():\n",
    "    return [2, 3, 4]"
   ]
  },
  {
   "cell_type": "code",
   "execution_count": 45,
   "id": "868279fb",
   "metadata": {},
   "outputs": [
    {
     "data": {
      "text/plain": [
       "[2, 3, 4]"
      ]
     },
     "execution_count": 45,
     "metadata": {},
     "output_type": "execute_result"
    }
   ],
   "source": [
    "test6()"
   ]
  },
  {
   "cell_type": "code",
   "execution_count": 47,
   "id": "12eb39d3",
   "metadata": {},
   "outputs": [],
   "source": [
    "a, b, c =test6()"
   ]
  },
  {
   "cell_type": "code",
   "execution_count": 48,
   "id": "8aae3383",
   "metadata": {},
   "outputs": [
    {
     "data": {
      "text/plain": [
       "2"
      ]
     },
     "execution_count": 48,
     "metadata": {},
     "output_type": "execute_result"
    }
   ],
   "source": [
    "a"
   ]
  },
  {
   "cell_type": "code",
   "execution_count": 49,
   "id": "819d18e1",
   "metadata": {},
   "outputs": [
    {
     "data": {
      "text/plain": [
       "3"
      ]
     },
     "execution_count": 49,
     "metadata": {},
     "output_type": "execute_result"
    }
   ],
   "source": [
    "b"
   ]
  },
  {
   "cell_type": "code",
   "execution_count": 50,
   "id": "75e26df2",
   "metadata": {},
   "outputs": [
    {
     "data": {
      "text/plain": [
       "4"
      ]
     },
     "execution_count": 50,
     "metadata": {},
     "output_type": "execute_result"
    }
   ],
   "source": [
    "c"
   ]
  },
  {
   "cell_type": "code",
   "execution_count": 51,
   "id": "307ec4a1",
   "metadata": {},
   "outputs": [],
   "source": [
    "a,b,c='1',2,3"
   ]
  },
  {
   "cell_type": "code",
   "execution_count": 52,
   "id": "c40cacb7",
   "metadata": {},
   "outputs": [
    {
     "data": {
      "text/plain": [
       "1"
      ]
     },
     "execution_count": 52,
     "metadata": {},
     "output_type": "execute_result"
    }
   ],
   "source": [
    "a"
   ]
  },
  {
   "cell_type": "code",
   "execution_count": 53,
   "id": "5e77cd4f",
   "metadata": {},
   "outputs": [
    {
     "data": {
      "text/plain": [
       "2"
      ]
     },
     "execution_count": 53,
     "metadata": {},
     "output_type": "execute_result"
    }
   ],
   "source": [
    "b"
   ]
  },
  {
   "cell_type": "code",
   "execution_count": 54,
   "id": "e5bacdb8",
   "metadata": {},
   "outputs": [
    {
     "data": {
      "text/plain": [
       "3"
      ]
     },
     "execution_count": 54,
     "metadata": {},
     "output_type": "execute_result"
    }
   ],
   "source": [
    "c"
   ]
  },
  {
   "cell_type": "code",
   "execution_count": 55,
   "id": "c063b4f4",
   "metadata": {},
   "outputs": [
    {
     "name": "stdout",
     "output_type": "stream",
     "text": [
      "1\n",
      "2\n",
      "3\n"
     ]
    }
   ],
   "source": [
    "print(a)\n",
    "print(b)\n",
    "print(c)"
   ]
  },
  {
   "cell_type": "code",
   "execution_count": 56,
   "id": "209cbaa8",
   "metadata": {},
   "outputs": [
    {
     "name": "stdout",
     "output_type": "stream",
     "text": [
      "<class 'int'>\n",
      "<class 'int'>\n",
      "<class 'int'>\n"
     ]
    }
   ],
   "source": [
    "print(type(a))\n",
    "print(type(b))\n",
    "print(type(c))"
   ]
  },
  {
   "cell_type": "code",
   "execution_count": 57,
   "id": "d663fffe",
   "metadata": {},
   "outputs": [],
   "source": [
    "def test7():\n",
    "    result= 50/20*6+8-5\n",
    "    return result"
   ]
  },
  {
   "cell_type": "code",
   "execution_count": 59,
   "id": "1ba4fd40",
   "metadata": {},
   "outputs": [
    {
     "data": {
      "text/plain": [
       "18.0"
      ]
     },
     "execution_count": 59,
     "metadata": {},
     "output_type": "execute_result"
    }
   ],
   "source": [
    "test7()"
   ]
  },
  {
   "cell_type": "code",
   "execution_count": 60,
   "id": "23adc785",
   "metadata": {},
   "outputs": [
    {
     "data": {
      "text/plain": [
       "18.0"
      ]
     },
     "execution_count": 60,
     "metadata": {},
     "output_type": "execute_result"
    }
   ],
   "source": [
    "50/20*6+8-5"
   ]
  },
  {
   "cell_type": "code",
   "execution_count": 63,
   "id": "145ad468",
   "metadata": {},
   "outputs": [],
   "source": [
    "def test8():\n",
    "    l=[1,2,3,4,5,6,7,8,9,10]\n",
    "    sum=0\n",
    "    for i in l:\n",
    "        sum +=i\n",
    "    return sum"
   ]
  },
  {
   "cell_type": "code",
   "execution_count": 64,
   "id": "0d2e73b8",
   "metadata": {},
   "outputs": [
    {
     "data": {
      "text/plain": [
       "55"
      ]
     },
     "execution_count": 64,
     "metadata": {},
     "output_type": "execute_result"
    }
   ],
   "source": [
    "test8()"
   ]
  },
  {
   "cell_type": "code",
   "execution_count": 65,
   "id": "065df60a",
   "metadata": {},
   "outputs": [
    {
     "data": {
      "text/plain": [
       "55"
      ]
     },
     "execution_count": 65,
     "metadata": {},
     "output_type": "execute_result"
    }
   ],
   "source": [
    "1+2+3+4+5+6+7+8+9+10"
   ]
  },
  {
   "cell_type": "code",
   "execution_count": 66,
   "id": "c8053eef",
   "metadata": {},
   "outputs": [],
   "source": [
    "def test9():\n",
    "    l=[1,2,3,4,5, 'INDIA', 'PUNA', 6,7,8, \"AJAY\"]\n",
    "    sum=0\n",
    "    for i in l:\n",
    "        sum +=i\n",
    "    return sum"
   ]
  },
  {
   "cell_type": "code",
   "execution_count": null,
   "id": "59058aa8",
   "metadata": {},
   "outputs": [],
   "source": [
    "6 + 'india'"
   ]
  },
  {
   "cell_type": "code",
   "execution_count": 67,
   "id": "385e1786",
   "metadata": {},
   "outputs": [
    {
     "ename": "TypeError",
     "evalue": "unsupported operand type(s) for +=: 'int' and 'str'",
     "output_type": "error",
     "traceback": [
      "\u001b[1;31m---------------------------------------------------------------------------\u001b[0m",
      "\u001b[1;31mTypeError\u001b[0m                                 Traceback (most recent call last)",
      "Cell \u001b[1;32mIn[67], line 1\u001b[0m\n\u001b[1;32m----> 1\u001b[0m test9()\n",
      "Cell \u001b[1;32mIn[66], line 5\u001b[0m, in \u001b[0;36mtest9\u001b[1;34m()\u001b[0m\n\u001b[0;32m      3\u001b[0m \u001b[38;5;28msum\u001b[39m\u001b[38;5;241m=\u001b[39m\u001b[38;5;241m0\u001b[39m\n\u001b[0;32m      4\u001b[0m \u001b[38;5;28;01mfor\u001b[39;00m i \u001b[38;5;129;01min\u001b[39;00m l:\n\u001b[1;32m----> 5\u001b[0m     \u001b[38;5;28msum\u001b[39m \u001b[38;5;241m+\u001b[39m\u001b[38;5;241m=\u001b[39mi\n\u001b[0;32m      6\u001b[0m \u001b[38;5;28;01mreturn\u001b[39;00m \u001b[38;5;28msum\u001b[39m\n",
      "\u001b[1;31mTypeError\u001b[0m: unsupported operand type(s) for +=: 'int' and 'str'"
     ]
    }
   ],
   "source": [
    "test9()"
   ]
  },
  {
   "cell_type": "code",
   "execution_count": 72,
   "id": "195bcdaa",
   "metadata": {},
   "outputs": [],
   "source": [
    "def test9():\n",
    "    l=[1,2,3,4,5, 'INDIA', 'PUNA', 6,7,8, \"RANI\",9,10]\n",
    "    sum=0\n",
    "    for i in l:\n",
    "        if type(i) == int:\n",
    "            sum +=i\n",
    "    return sum"
   ]
  },
  {
   "cell_type": "code",
   "execution_count": 73,
   "id": "f4bdc07d",
   "metadata": {},
   "outputs": [
    {
     "data": {
      "text/plain": [
       "55"
      ]
     },
     "execution_count": 73,
     "metadata": {},
     "output_type": "execute_result"
    }
   ],
   "source": [
    "test9()"
   ]
  },
  {
   "cell_type": "code",
   "execution_count": 74,
   "id": "90781650",
   "metadata": {},
   "outputs": [],
   "source": [
    "def test10():\n",
    "    sum=0\n",
    "    for i in l:\n",
    "        if type(i)==int:\n",
    "            sum +=i\n",
    "    return sum"
   ]
  },
  {
   "cell_type": "code",
   "execution_count": 75,
   "id": "36775986",
   "metadata": {},
   "outputs": [],
   "source": [
    "l=[1,2,3,4,5, 'a', 'b', 6,7,8, \"c\",'d', 9,10]"
   ]
  },
  {
   "cell_type": "code",
   "execution_count": 76,
   "id": "08d9190f",
   "metadata": {},
   "outputs": [
    {
     "data": {
      "text/plain": [
       "55"
      ]
     },
     "execution_count": 76,
     "metadata": {},
     "output_type": "execute_result"
    }
   ],
   "source": [
    "test10()"
   ]
  },
  {
   "cell_type": "code",
   "execution_count": 93,
   "id": "75225446",
   "metadata": {},
   "outputs": [],
   "source": [
    "def test11(mylist):\n",
    "    sum=0\n",
    "    for i in mylist:\n",
    "        if type(i)==int:\n",
    "            sum +=i\n",
    "    return sum"
   ]
  },
  {
   "cell_type": "code",
   "execution_count": 94,
   "id": "f49be4ea",
   "metadata": {},
   "outputs": [],
   "source": [
    "l=[1,2,3,4,5, 'a', 'b', 6,7,8, \"c\",'d', 9,10]"
   ]
  },
  {
   "cell_type": "code",
   "execution_count": 95,
   "id": "8ed3df67",
   "metadata": {},
   "outputs": [
    {
     "data": {
      "text/plain": [
       "55"
      ]
     },
     "execution_count": 95,
     "metadata": {},
     "output_type": "execute_result"
    }
   ],
   "source": [
    "test11(mylist=l)"
   ]
  },
  {
   "cell_type": "code",
   "execution_count": 84,
   "id": "7d47996e",
   "metadata": {},
   "outputs": [],
   "source": [
    "def two_no_sum(a,b):\n",
    "    \n",
    "    sum = a+b\n",
    "    \n",
    "    return sum"
   ]
  },
  {
   "cell_type": "code",
   "execution_count": 85,
   "id": "3bd81027",
   "metadata": {},
   "outputs": [],
   "source": [
    "a=2\n",
    "b=3\n",
    "\n",
    "result=two_no_sum(a,b)"
   ]
  },
  {
   "cell_type": "code",
   "execution_count": 86,
   "id": "0a695de5",
   "metadata": {},
   "outputs": [
    {
     "data": {
      "text/plain": [
       "5"
      ]
     },
     "execution_count": 86,
     "metadata": {},
     "output_type": "execute_result"
    }
   ],
   "source": [
    "result"
   ]
  },
  {
   "cell_type": "code",
   "execution_count": 92,
   "id": "aff2a957",
   "metadata": {},
   "outputs": [],
   "source": [
    "p=5\n",
    "q=10\n",
    "\n",
    "result=two_no_sum(p,q)"
   ]
  },
  {
   "cell_type": "code",
   "execution_count": 88,
   "id": "d499fa9b",
   "metadata": {},
   "outputs": [
    {
     "data": {
      "text/plain": [
       "15"
      ]
     },
     "execution_count": 88,
     "metadata": {},
     "output_type": "execute_result"
    }
   ],
   "source": [
    "result"
   ]
  },
  {
   "cell_type": "code",
   "execution_count": 91,
   "id": "eca0b62f",
   "metadata": {},
   "outputs": [
    {
     "data": {
      "text/plain": [
       "15"
      ]
     },
     "execution_count": 91,
     "metadata": {},
     "output_type": "execute_result"
    }
   ],
   "source": [
    "two_no_sum(a=p,b=q)"
   ]
  },
  {
   "cell_type": "code",
   "execution_count": 103,
   "id": "599cfabc",
   "metadata": {},
   "outputs": [
    {
     "data": {
      "text/plain": [
       "18.0"
      ]
     },
     "execution_count": 103,
     "metadata": {},
     "output_type": "execute_result"
    }
   ],
   "source": [
    "test7()"
   ]
  },
  {
   "cell_type": "code",
   "execution_count": null,
   "id": "88a14a90",
   "metadata": {},
   "outputs": [],
   "source": []
  },
  {
   "cell_type": "code",
   "execution_count": null,
   "id": "90379b02",
   "metadata": {},
   "outputs": [],
   "source": [
    "function25()"
   ]
  },
  {
   "cell_type": "code",
   "execution_count": 97,
   "id": "daf22f53",
   "metadata": {},
   "outputs": [
    {
     "data": {
      "text/plain": [
       "14"
      ]
     },
     "execution_count": 97,
     "metadata": {},
     "output_type": "execute_result"
    }
   ],
   "source": [
    "len(l)"
   ]
  },
  {
   "cell_type": "code",
   "execution_count": 98,
   "id": "9c916535",
   "metadata": {},
   "outputs": [
    {
     "data": {
      "text/plain": [
       "[1, 2, 3, 4, 5, 'a', 'b', 6, 7, 8, 'c', 'd', 9, 10]"
      ]
     },
     "execution_count": 98,
     "metadata": {},
     "output_type": "execute_result"
    }
   ],
   "source": [
    "l"
   ]
  },
  {
   "cell_type": "code",
   "execution_count": 3,
   "id": "c38320ee",
   "metadata": {},
   "outputs": [],
   "source": [
    "def two_no_sum(a,b):\n",
    "    \"\"\"\n",
    "    return the sum of two numbers\n",
    "    :params: 'a' si first number\n",
    "    :params: 'b' is second number\n",
    "    :return: addition of two numbers\n",
    "    \n",
    "    \"\"\"\n",
    "    \n",
    "    sum = a+b\n",
    "    \n",
    "    return sum"
   ]
  },
  {
   "cell_type": "code",
   "execution_count": 4,
   "id": "76e76af1",
   "metadata": {},
   "outputs": [
    {
     "data": {
      "text/plain": [
       "3"
      ]
     },
     "execution_count": 4,
     "metadata": {},
     "output_type": "execute_result"
    }
   ],
   "source": [
    "two_no_sum(1,2)"
   ]
  },
  {
   "cell_type": "code",
   "execution_count": 5,
   "id": "78600caf",
   "metadata": {},
   "outputs": [
    {
     "name": "stdout",
     "output_type": "stream",
     "text": [
      "\n",
      "    return the sum of two numbers\n",
      "    :params: 'a' si first number\n",
      "    :params: 'b' is second number\n",
      "    :return: addition of two numbers\n",
      "    \n",
      "    \n"
     ]
    }
   ],
   "source": [
    "    print(two_no_sum.__doc__)"
   ]
  },
  {
   "cell_type": "code",
   "execution_count": 6,
   "id": "79d3e1a2",
   "metadata": {},
   "outputs": [],
   "source": [
    "l=[1,2,3,4,'a','b','c',5]"
   ]
  },
  {
   "cell_type": "code",
   "execution_count": 7,
   "id": "dfd2593e",
   "metadata": {},
   "outputs": [
    {
     "data": {
      "text/plain": [
       "[1, 2, 3, 4, 'a', 'b', 'c', 5]"
      ]
     },
     "execution_count": 7,
     "metadata": {},
     "output_type": "execute_result"
    }
   ],
   "source": [
    "l"
   ]
  },
  {
   "cell_type": "code",
   "execution_count": 8,
   "id": "a8f27d37",
   "metadata": {},
   "outputs": [
    {
     "data": {
      "text/plain": [
       "['a', 'b', 'c']"
      ]
     },
     "execution_count": 8,
     "metadata": {},
     "output_type": "execute_result"
    }
   ],
   "source": [
    "['a', 'b', 'c']"
   ]
  },
  {
   "cell_type": "code",
   "execution_count": 9,
   "id": "fcd5418e",
   "metadata": {},
   "outputs": [],
   "source": [
    "    def test12(mylist):\n",
    "        \n",
    "        li = []\n",
    "        \n",
    "        for i in mylist:\n",
    "            \n",
    "            if type(i) == str:\n",
    "                \n",
    "                li.append(i)\n",
    "                \n",
    "        return li    "
   ]
  },
  {
   "cell_type": "code",
   "execution_count": 10,
   "id": "95b062f0",
   "metadata": {},
   "outputs": [
    {
     "data": {
      "text/plain": [
       "[1, 2, 3, 4, 'a', 'b', 'c', 5]"
      ]
     },
     "execution_count": 10,
     "metadata": {},
     "output_type": "execute_result"
    }
   ],
   "source": [
    "l"
   ]
  },
  {
   "cell_type": "code",
   "execution_count": 11,
   "id": "8662392c",
   "metadata": {},
   "outputs": [
    {
     "data": {
      "text/plain": [
       "['a', 'b', 'c']"
      ]
     },
     "execution_count": 11,
     "metadata": {},
     "output_type": "execute_result"
    }
   ],
   "source": [
    "test12(l)"
   ]
  },
  {
   "cell_type": "code",
   "execution_count": 42,
   "id": "a0d975b6",
   "metadata": {},
   "outputs": [],
   "source": [
    "    def test13(mylist):\n",
    "        \"\"\"\n",
    "        This function seperates the integer and str elements from the given list\n",
    "        :param: list()\n",
    "        :return: string list, integer list\n",
    "        \"\"\"\n",
    "        \n",
    "        li_int = []\n",
    "        li_str = []\n",
    "        \n",
    "        for i in mylist:\n",
    "            \n",
    "            if type(i) == str:\n",
    "                li_str.append(i)\n",
    "                \n",
    "            if type(i) == int:\n",
    "                li_int.append(i)\n",
    "                \n",
    "        return li_str, li_int"
   ]
  },
  {
   "cell_type": "code",
   "execution_count": 43,
   "id": "0a081df1",
   "metadata": {},
   "outputs": [
    {
     "data": {
      "text/plain": [
       "[1, 2, 3, 4, 'a', 'b', 'c', 5]"
      ]
     },
     "execution_count": 43,
     "metadata": {},
     "output_type": "execute_result"
    }
   ],
   "source": [
    "    l"
   ]
  },
  {
   "cell_type": "code",
   "execution_count": 44,
   "id": "2fe62553",
   "metadata": {},
   "outputs": [],
   "source": [
    " list_str, list_int = test13(l)"
   ]
  },
  {
   "cell_type": "code",
   "execution_count": 45,
   "id": "7eb4ab8d",
   "metadata": {},
   "outputs": [
    {
     "data": {
      "text/plain": [
       "['a', 'b', 'c']"
      ]
     },
     "execution_count": 45,
     "metadata": {},
     "output_type": "execute_result"
    }
   ],
   "source": [
    "list_str"
   ]
  },
  {
   "cell_type": "code",
   "execution_count": 46,
   "id": "775d8481",
   "metadata": {},
   "outputs": [
    {
     "data": {
      "text/plain": [
       "[1, 2, 3, 4, 5]"
      ]
     },
     "execution_count": 46,
     "metadata": {},
     "output_type": "execute_result"
    }
   ],
   "source": [
    "list_int"
   ]
  },
  {
   "cell_type": "code",
   "execution_count": 47,
   "id": "061c1610",
   "metadata": {},
   "outputs": [],
   "source": [
    "    def test13(mylist: list()):\n",
    "        \"\"\"\n",
    "        This function seperates the integer and str elements from the given list\n",
    "        :param: list()\n",
    "        :return: string list, integer list\n",
    "        \"\"\"\n",
    "        \n",
    "        li_int = []\n",
    "        li_str = []\n",
    "        \n",
    "        for i in mylist:\n",
    "            \n",
    "            if type(i) == str:\n",
    "                li_str.append(i)\n",
    "                \n",
    "            if type(i) == int:\n",
    "                li_int.append(i)\n",
    "                \n",
    "        return li_str, li_int"
   ]
  },
  {
   "cell_type": "code",
   "execution_count": 48,
   "id": "6da07ead",
   "metadata": {},
   "outputs": [
    {
     "data": {
      "text/plain": [
       "([], [1, 2, 3, 4, 5])"
      ]
     },
     "execution_count": 48,
     "metadata": {},
     "output_type": "execute_result"
    }
   ],
   "source": [
    "test13(list_int)"
   ]
  },
  {
   "cell_type": "code",
   "execution_count": 49,
   "id": "8272bb00",
   "metadata": {},
   "outputs": [
    {
     "data": {
      "text/plain": [
       "(['a', 'b', 'c'], [])"
      ]
     },
     "execution_count": 49,
     "metadata": {},
     "output_type": "execute_result"
    }
   ],
   "source": [
    "test13(list_str)"
   ]
  },
  {
   "cell_type": "markdown",
   "id": "42ebf7d8",
   "metadata": {},
   "source": [
    "# 1. Assignment\n",
    "        1. Function_name should be meaningful\n",
    "        2. Datatype\n",
    "        3. Return type\n",
    "        4. Docstring \n",
    "            1. Doscription,\n",
    "            2. Parameter,\n",
    "            3. Return\n",
    "Fri 10 PM"
   ]
  },
  {
   "cell_type": "markdown",
   "id": "cafcd3ee",
   "metadata": {},
   "source": [
    "## 1. POST\n",
    "    1.Linkedln\n",
    "    2.towardsdatascience.com\n",
    "##  2. stackoverflow.com"
   ]
  },
  {
   "cell_type": "code",
   "execution_count": null,
   "id": "004f7a1d",
   "metadata": {},
   "outputs": [],
   "source": []
  }
 ],
 "metadata": {
  "kernelspec": {
   "display_name": "Python 3 (ipykernel)",
   "language": "python",
   "name": "python3"
  },
  "language_info": {
   "codemirror_mode": {
    "name": "ipython",
    "version": 3
   },
   "file_extension": ".py",
   "mimetype": "text/x-python",
   "name": "python",
   "nbconvert_exporter": "python",
   "pygments_lexer": "ipython3",
   "version": "3.11.5"
  }
 },
 "nbformat": 4,
 "nbformat_minor": 5
}
