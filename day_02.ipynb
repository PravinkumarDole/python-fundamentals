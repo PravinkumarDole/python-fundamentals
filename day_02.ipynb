{
 "cells": [
  {
   "cell_type": "markdown",
   "id": "0df8d890",
   "metadata": {},
   "source": [
    "# Stystem "
   ]
  },
  {
   "cell_type": "markdown",
   "id": "21585e21",
   "metadata": {},
   "source": [
    "##### Stystem"
   ]
  },
  {
   "cell_type": "code",
   "execution_count": 1,
   "id": "6a75f393",
   "metadata": {},
   "outputs": [
    {
     "name": "stdout",
     "output_type": "stream",
     "text": [
      "Hello World\n"
     ]
    }
   ],
   "source": [
    "print(\"Hello World\")"
   ]
  },
  {
   "cell_type": "markdown",
   "id": "adc4f939",
   "metadata": {},
   "source": [
    "# System programming"
   ]
  },
  {
   "cell_type": "code",
   "execution_count": null,
   "id": "97a75007",
   "metadata": {},
   "outputs": [],
   "source": [
    "# 2.x\n",
    "# 3.x"
   ]
  },
  {
   "cell_type": "code",
   "execution_count": 2,
   "id": "9a70a074",
   "metadata": {},
   "outputs": [
    {
     "name": "stdout",
     "output_type": "stream",
     "text": [
      "The Zen of Python, by Tim Peters\n",
      "\n",
      "Beautiful is better than ugly.\n",
      "Explicit is better than implicit.\n",
      "Simple is better than complex.\n",
      "Complex is better than complicated.\n",
      "Flat is better than nested.\n",
      "Sparse is better than dense.\n",
      "Readability counts.\n",
      "Special cases aren't special enough to break the rules.\n",
      "Although practicality beats purity.\n",
      "Errors should never pass silently.\n",
      "Unless explicitly silenced.\n",
      "In the face of ambiguity, refuse the temptation to guess.\n",
      "There should be one-- and preferably only one --obvious way to do it.\n",
      "Although that way may not be obvious at first unless you're Dutch.\n",
      "Now is better than never.\n",
      "Although never is often better than *right* now.\n",
      "If the implementation is hard to explain, it's a bad idea.\n",
      "If the implementation is easy to explain, it may be a good idea.\n",
      "Namespaces are one honking great idea -- let's do more of those!\n"
     ]
    }
   ],
   "source": [
    "import this"
   ]
  },
  {
   "cell_type": "code",
   "execution_count": 3,
   "id": "33aaf9f0",
   "metadata": {},
   "outputs": [
    {
     "name": "stdout",
     "output_type": "stream",
     "text": [
      "Hello World\n",
      "Hello World\n"
     ]
    }
   ],
   "source": [
    "print(\"Hello World\")\n",
    "print(\"Hello World\")"
   ]
  },
  {
   "cell_type": "code",
   "execution_count": null,
   "id": "7cb04120",
   "metadata": {},
   "outputs": [],
   "source": []
  },
  {
   "cell_type": "code",
   "execution_count": 4,
   "id": "179506ce",
   "metadata": {},
   "outputs": [
    {
     "name": "stdout",
     "output_type": "stream",
     "text": [
      "Hello World\n",
      "Hello World\n"
     ]
    }
   ],
   "source": [
    "print(\"Hello World\")\n",
    "print(\"Hello World\")"
   ]
  },
  {
   "cell_type": "markdown",
   "id": "e192160f",
   "metadata": {},
   "source": [
    "# Data type in Python"
   ]
  },
  {
   "cell_type": "markdown",
   "id": "c6738b74",
   "metadata": {},
   "source": [
    "str string\n",
    "\n",
    "int integer\n",
    "\n",
    "float \n",
    "\n",
    "complex\n",
    "\n",
    "bool"
   ]
  },
  {
   "cell_type": "code",
   "execution_count": 6,
   "id": "9e1acba1",
   "metadata": {},
   "outputs": [],
   "source": [
    "t=10"
   ]
  },
  {
   "cell_type": "code",
   "execution_count": 7,
   "id": "431edf90",
   "metadata": {},
   "outputs": [
    {
     "data": {
      "text/plain": [
       "10"
      ]
     },
     "execution_count": 7,
     "metadata": {},
     "output_type": "execute_result"
    }
   ],
   "source": [
    "t"
   ]
  },
  {
   "cell_type": "code",
   "execution_count": 8,
   "id": "34df9da8",
   "metadata": {},
   "outputs": [
    {
     "data": {
      "text/plain": [
       "int"
      ]
     },
     "execution_count": 8,
     "metadata": {},
     "output_type": "execute_result"
    }
   ],
   "source": [
    "type(t)"
   ]
  },
  {
   "cell_type": "code",
   "execution_count": 9,
   "id": "6c8632e4",
   "metadata": {},
   "outputs": [],
   "source": [
    "a=2+5j"
   ]
  },
  {
   "cell_type": "code",
   "execution_count": 10,
   "id": "9706a1a3",
   "metadata": {},
   "outputs": [
    {
     "data": {
      "text/plain": [
       "(2+5j)"
      ]
     },
     "execution_count": 10,
     "metadata": {},
     "output_type": "execute_result"
    }
   ],
   "source": [
    "a"
   ]
  },
  {
   "cell_type": "code",
   "execution_count": 11,
   "id": "da900a95",
   "metadata": {},
   "outputs": [
    {
     "data": {
      "text/plain": [
       "complex"
      ]
     },
     "execution_count": 11,
     "metadata": {},
     "output_type": "execute_result"
    }
   ],
   "source": [
    "type(a)"
   ]
  },
  {
   "cell_type": "code",
   "execution_count": 12,
   "id": "61c0f276",
   "metadata": {},
   "outputs": [],
   "source": [
    "e=2.2"
   ]
  },
  {
   "cell_type": "code",
   "execution_count": 13,
   "id": "f8d0f473",
   "metadata": {},
   "outputs": [
    {
     "data": {
      "text/plain": [
       "2.2"
      ]
     },
     "execution_count": 13,
     "metadata": {},
     "output_type": "execute_result"
    }
   ],
   "source": [
    "e"
   ]
  },
  {
   "cell_type": "code",
   "execution_count": 14,
   "id": "59c303a6",
   "metadata": {},
   "outputs": [
    {
     "data": {
      "text/plain": [
       "float"
      ]
     },
     "execution_count": 14,
     "metadata": {},
     "output_type": "execute_result"
    }
   ],
   "source": [
    "type(e)"
   ]
  },
  {
   "cell_type": "code",
   "execution_count": 15,
   "id": "600c61a8",
   "metadata": {},
   "outputs": [],
   "source": [
    "p=True"
   ]
  },
  {
   "cell_type": "code",
   "execution_count": 16,
   "id": "150347ed",
   "metadata": {},
   "outputs": [
    {
     "data": {
      "text/plain": [
       "bool"
      ]
     },
     "execution_count": 16,
     "metadata": {},
     "output_type": "execute_result"
    }
   ],
   "source": [
    "type(p)"
   ]
  },
  {
   "cell_type": "code",
   "execution_count": 19,
   "id": "546d2ce3",
   "metadata": {},
   "outputs": [],
   "source": [
    "a,b,c,d=10, 2.8, 2+8j, False"
   ]
  },
  {
   "cell_type": "code",
   "execution_count": 20,
   "id": "d6b08161",
   "metadata": {},
   "outputs": [
    {
     "data": {
      "text/plain": [
       "10"
      ]
     },
     "execution_count": 20,
     "metadata": {},
     "output_type": "execute_result"
    }
   ],
   "source": [
    "a"
   ]
  },
  {
   "cell_type": "code",
   "execution_count": 22,
   "id": "48ab4a8a",
   "metadata": {},
   "outputs": [],
   "source": [
    "n='INDIA'"
   ]
  },
  {
   "cell_type": "code",
   "execution_count": 23,
   "id": "3f3fe4f0",
   "metadata": {},
   "outputs": [
    {
     "data": {
      "text/plain": [
       "'INDIA'"
      ]
     },
     "execution_count": 23,
     "metadata": {},
     "output_type": "execute_result"
    }
   ],
   "source": [
    "n"
   ]
  },
  {
   "cell_type": "code",
   "execution_count": 24,
   "id": "0d53535d",
   "metadata": {},
   "outputs": [
    {
     "data": {
      "text/plain": [
       "str"
      ]
     },
     "execution_count": 24,
     "metadata": {},
     "output_type": "execute_result"
    }
   ],
   "source": [
    "type(n)"
   ]
  },
  {
   "cell_type": "code",
   "execution_count": 26,
   "id": "ff1ced0d",
   "metadata": {},
   "outputs": [
    {
     "data": {
      "text/plain": [
       "5"
      ]
     },
     "execution_count": 26,
     "metadata": {},
     "output_type": "execute_result"
    }
   ],
   "source": [
    "len(n)"
   ]
  },
  {
   "cell_type": "code",
   "execution_count": 27,
   "id": "fcd4a78c",
   "metadata": {},
   "outputs": [
    {
     "data": {
      "text/plain": [
       "'I'"
      ]
     },
     "execution_count": 27,
     "metadata": {},
     "output_type": "execute_result"
    }
   ],
   "source": [
    "n[0]"
   ]
  },
  {
   "cell_type": "code",
   "execution_count": 28,
   "id": "d3c3b993",
   "metadata": {},
   "outputs": [
    {
     "data": {
      "text/plain": [
       "'INDIA'"
      ]
     },
     "execution_count": 28,
     "metadata": {},
     "output_type": "execute_result"
    }
   ],
   "source": [
    "n[0:5]"
   ]
  },
  {
   "cell_type": "code",
   "execution_count": 31,
   "id": "fedfa600",
   "metadata": {},
   "outputs": [
    {
     "data": {
      "text/plain": [
       "'D'"
      ]
     },
     "execution_count": 31,
     "metadata": {},
     "output_type": "execute_result"
    }
   ],
   "source": [
    "n[2]"
   ]
  },
  {
   "cell_type": "code",
   "execution_count": 33,
   "id": "a4184d03",
   "metadata": {},
   "outputs": [],
   "source": [
    "a='INDIA IS A GREAT NATION'"
   ]
  },
  {
   "cell_type": "code",
   "execution_count": 34,
   "id": "1210af04",
   "metadata": {},
   "outputs": [
    {
     "data": {
      "text/plain": [
       "23"
      ]
     },
     "execution_count": 34,
     "metadata": {},
     "output_type": "execute_result"
    }
   ],
   "source": [
    "len(a)"
   ]
  },
  {
   "cell_type": "code",
   "execution_count": 35,
   "id": "da273106",
   "metadata": {},
   "outputs": [
    {
     "data": {
      "text/plain": [
       "'INDIA IS A'"
      ]
     },
     "execution_count": 35,
     "metadata": {},
     "output_type": "execute_result"
    }
   ],
   "source": [
    "a[0:10]"
   ]
  },
  {
   "cell_type": "code",
   "execution_count": 36,
   "id": "dcc6706c",
   "metadata": {},
   "outputs": [
    {
     "data": {
      "text/plain": [
       "' IS A'"
      ]
     },
     "execution_count": 36,
     "metadata": {},
     "output_type": "execute_result"
    }
   ],
   "source": [
    "a[5:10]"
   ]
  },
  {
   "cell_type": "code",
   "execution_count": 37,
   "id": "ec7cfc2e",
   "metadata": {},
   "outputs": [
    {
     "ename": "IndexError",
     "evalue": "string index out of range",
     "output_type": "error",
     "traceback": [
      "\u001b[1;31m---------------------------------------------------------------------------\u001b[0m",
      "\u001b[1;31mIndexError\u001b[0m                                Traceback (most recent call last)",
      "Cell \u001b[1;32mIn[37], line 1\u001b[0m\n\u001b[1;32m----> 1\u001b[0m a[\u001b[38;5;241m100\u001b[39m]\n",
      "\u001b[1;31mIndexError\u001b[0m: string index out of range"
     ]
    }
   ],
   "source": [
    "a[100]"
   ]
  },
  {
   "cell_type": "markdown",
   "id": "3eabb5e7",
   "metadata": {},
   "source": [
    "# Alternat char access"
   ]
  },
  {
   "cell_type": "code",
   "execution_count": 38,
   "id": "7d23b91f",
   "metadata": {},
   "outputs": [
    {
     "data": {
      "text/plain": [
       "'IDAI  RA AIN'"
      ]
     },
     "execution_count": 38,
     "metadata": {},
     "output_type": "execute_result"
    }
   ],
   "source": [
    "a[0: :2]"
   ]
  },
  {
   "cell_type": "code",
   "execution_count": 39,
   "id": "974a62a4",
   "metadata": {},
   "outputs": [
    {
     "data": {
      "text/plain": [
       "'INDIA IS A GREAT NATION'"
      ]
     },
     "execution_count": 39,
     "metadata": {},
     "output_type": "execute_result"
    }
   ],
   "source": [
    "a[0:100]"
   ]
  },
  {
   "cell_type": "code",
   "execution_count": 40,
   "id": "a47f8de1",
   "metadata": {},
   "outputs": [
    {
     "data": {
      "text/plain": [
       "'IIIARTAO'"
      ]
     },
     "execution_count": 40,
     "metadata": {},
     "output_type": "execute_result"
    }
   ],
   "source": [
    "a[0:100:3]"
   ]
  },
  {
   "cell_type": "code",
   "execution_count": 41,
   "id": "338b015b",
   "metadata": {},
   "outputs": [
    {
     "data": {
      "text/plain": [
       "'IDAI  RA AIN'"
      ]
     },
     "execution_count": 41,
     "metadata": {},
     "output_type": "execute_result"
    }
   ],
   "source": [
    "a[0::2]"
   ]
  },
  {
   "cell_type": "code",
   "execution_count": 42,
   "id": "ac14d267",
   "metadata": {},
   "outputs": [
    {
     "data": {
      "text/plain": [
       "'IDAI  RA AIN'"
      ]
     },
     "execution_count": 42,
     "metadata": {},
     "output_type": "execute_result"
    }
   ],
   "source": [
    "a[0:100:2]"
   ]
  },
  {
   "cell_type": "code",
   "execution_count": 43,
   "id": "b81041d3",
   "metadata": {},
   "outputs": [
    {
     "data": {
      "text/plain": [
       "''"
      ]
     },
     "execution_count": 43,
     "metadata": {},
     "output_type": "execute_result"
    }
   ],
   "source": [
    "a[-1:-1]"
   ]
  },
  {
   "cell_type": "code",
   "execution_count": 44,
   "id": "360b8b9b",
   "metadata": {},
   "outputs": [
    {
     "data": {
      "text/plain": [
       "''"
      ]
     },
     "execution_count": 44,
     "metadata": {},
     "output_type": "execute_result"
    }
   ],
   "source": [
    "a[-1:-2]"
   ]
  },
  {
   "cell_type": "code",
   "execution_count": 45,
   "id": "6a14769b",
   "metadata": {},
   "outputs": [
    {
     "data": {
      "text/plain": [
       "''"
      ]
     },
     "execution_count": 45,
     "metadata": {},
     "output_type": "execute_result"
    }
   ],
   "source": [
    "a[-1:-6]"
   ]
  },
  {
   "cell_type": "code",
   "execution_count": 46,
   "id": "38d4b91d",
   "metadata": {},
   "outputs": [
    {
     "data": {
      "text/plain": [
       "''"
      ]
     },
     "execution_count": 46,
     "metadata": {},
     "output_type": "execute_result"
    }
   ],
   "source": [
    "a[-1:1]"
   ]
  },
  {
   "cell_type": "code",
   "execution_count": 47,
   "id": "700936c0",
   "metadata": {},
   "outputs": [
    {
     "data": {
      "text/plain": [
       "'NATIO'"
      ]
     },
     "execution_count": 47,
     "metadata": {},
     "output_type": "execute_result"
    }
   ],
   "source": [
    "a[-6:-1]"
   ]
  },
  {
   "cell_type": "code",
   "execution_count": 48,
   "id": "2c457e51",
   "metadata": {},
   "outputs": [
    {
     "data": {
      "text/plain": [
       "'NOITAN TAERG A SI AIDNI'"
      ]
     },
     "execution_count": 48,
     "metadata": {},
     "output_type": "execute_result"
    }
   ],
   "source": [
    "a[::-1]"
   ]
  },
  {
   "cell_type": "markdown",
   "id": "0a1a298c",
   "metadata": {},
   "source": [
    "# Find char method"
   ]
  },
  {
   "cell_type": "code",
   "execution_count": 49,
   "id": "0ee5d3f6",
   "metadata": {},
   "outputs": [
    {
     "data": {
      "text/plain": [
       "'INDIA IS A GREAT NATION'"
      ]
     },
     "execution_count": 49,
     "metadata": {},
     "output_type": "execute_result"
    }
   ],
   "source": [
    "a"
   ]
  },
  {
   "cell_type": "code",
   "execution_count": 51,
   "id": "e3c4b8a8",
   "metadata": {},
   "outputs": [
    {
     "data": {
      "text/plain": [
       "11"
      ]
     },
     "execution_count": 51,
     "metadata": {},
     "output_type": "execute_result"
    }
   ],
   "source": [
    "a.find('G')"
   ]
  },
  {
   "cell_type": "code",
   "execution_count": 52,
   "id": "e7df8a47",
   "metadata": {},
   "outputs": [
    {
     "data": {
      "text/plain": [
       "11"
      ]
     },
     "execution_count": 52,
     "metadata": {},
     "output_type": "execute_result"
    }
   ],
   "source": [
    "a.find('GRE')"
   ]
  },
  {
   "cell_type": "code",
   "execution_count": 54,
   "id": "26576970",
   "metadata": {},
   "outputs": [
    {
     "data": {
      "text/plain": [
       "4"
      ]
     },
     "execution_count": 54,
     "metadata": {},
     "output_type": "execute_result"
    }
   ],
   "source": [
    "a.find('A')"
   ]
  },
  {
   "cell_type": "markdown",
   "id": "2bc5efa2",
   "metadata": {},
   "source": [
    "# Case Changes"
   ]
  },
  {
   "cell_type": "code",
   "execution_count": 62,
   "id": "b7c28932",
   "metadata": {},
   "outputs": [],
   "source": [
    "a='INDIA IS A GREAT NATION'"
   ]
  },
  {
   "cell_type": "code",
   "execution_count": 63,
   "id": "e2519bb4",
   "metadata": {},
   "outputs": [
    {
     "data": {
      "text/plain": [
       "'INDIA IS A GREAT NATION'"
      ]
     },
     "execution_count": 63,
     "metadata": {},
     "output_type": "execute_result"
    }
   ],
   "source": [
    "a"
   ]
  },
  {
   "cell_type": "code",
   "execution_count": 60,
   "id": "b4fbe183",
   "metadata": {},
   "outputs": [],
   "source": [
    "a=a.capitalize()"
   ]
  },
  {
   "cell_type": "code",
   "execution_count": 61,
   "id": "372131da",
   "metadata": {},
   "outputs": [
    {
     "data": {
      "text/plain": [
       "'India is a great nation'"
      ]
     },
     "execution_count": 61,
     "metadata": {},
     "output_type": "execute_result"
    }
   ],
   "source": [
    "a"
   ]
  },
  {
   "cell_type": "code",
   "execution_count": 64,
   "id": "ff1254b0",
   "metadata": {},
   "outputs": [
    {
     "data": {
      "text/plain": [
       "'INDIA IS A GREAT NATION'"
      ]
     },
     "execution_count": 64,
     "metadata": {},
     "output_type": "execute_result"
    }
   ],
   "source": [
    "a.upper()"
   ]
  },
  {
   "cell_type": "code",
   "execution_count": 65,
   "id": "e231d372",
   "metadata": {},
   "outputs": [
    {
     "data": {
      "text/plain": [
       "'india is a great nation'"
      ]
     },
     "execution_count": 65,
     "metadata": {},
     "output_type": "execute_result"
    }
   ],
   "source": [
    "a.lower()"
   ]
  },
  {
   "cell_type": "code",
   "execution_count": 66,
   "id": "eda8fe49",
   "metadata": {},
   "outputs": [
    {
     "data": {
      "text/plain": [
       "'INDIA IS A GREAT NATION'"
      ]
     },
     "execution_count": 66,
     "metadata": {},
     "output_type": "execute_result"
    }
   ],
   "source": [
    "a"
   ]
  },
  {
   "cell_type": "code",
   "execution_count": 67,
   "id": "f4cfc49b",
   "metadata": {},
   "outputs": [
    {
     "data": {
      "text/plain": [
       "False"
      ]
     },
     "execution_count": 67,
     "metadata": {},
     "output_type": "execute_result"
    }
   ],
   "source": [
    "a.isalnum()"
   ]
  },
  {
   "cell_type": "code",
   "execution_count": 68,
   "id": "b5c9b204",
   "metadata": {},
   "outputs": [],
   "source": [
    "t=\"   jasdfkl;jas    \""
   ]
  },
  {
   "cell_type": "code",
   "execution_count": 69,
   "id": "d06d04bd",
   "metadata": {},
   "outputs": [
    {
     "data": {
      "text/plain": [
       "'   jasdfkl;jas    '"
      ]
     },
     "execution_count": 69,
     "metadata": {},
     "output_type": "execute_result"
    }
   ],
   "source": [
    "t"
   ]
  },
  {
   "cell_type": "code",
   "execution_count": 70,
   "id": "929cf263",
   "metadata": {},
   "outputs": [
    {
     "data": {
      "text/plain": [
       "'jasdfkl;jas'"
      ]
     },
     "execution_count": 70,
     "metadata": {},
     "output_type": "execute_result"
    }
   ],
   "source": [
    "t.strip()"
   ]
  },
  {
   "cell_type": "code",
   "execution_count": 71,
   "id": "5220c379",
   "metadata": {},
   "outputs": [],
   "source": [
    "a='India is a great nation'"
   ]
  },
  {
   "cell_type": "code",
   "execution_count": 72,
   "id": "c8362152",
   "metadata": {},
   "outputs": [
    {
     "data": {
      "text/plain": [
       "'India is a great nation'"
      ]
     },
     "execution_count": 72,
     "metadata": {},
     "output_type": "execute_result"
    }
   ],
   "source": [
    "a"
   ]
  },
  {
   "cell_type": "code",
   "execution_count": 74,
   "id": "9036c02b",
   "metadata": {},
   "outputs": [],
   "source": [
    "a=a.split()"
   ]
  },
  {
   "cell_type": "code",
   "execution_count": 75,
   "id": "68c76cd9",
   "metadata": {},
   "outputs": [
    {
     "data": {
      "text/plain": [
       "['India', 'is', 'a', 'great', 'nation']"
      ]
     },
     "execution_count": 75,
     "metadata": {},
     "output_type": "execute_result"
    }
   ],
   "source": [
    "a"
   ]
  },
  {
   "cell_type": "code",
   "execution_count": 78,
   "id": "97a1d150",
   "metadata": {},
   "outputs": [],
   "source": [
    "m='india is a great nation'"
   ]
  },
  {
   "cell_type": "code",
   "execution_count": 79,
   "id": "514bb0af",
   "metadata": {},
   "outputs": [
    {
     "data": {
      "text/plain": [
       "'india is a great nation'"
      ]
     },
     "execution_count": 79,
     "metadata": {},
     "output_type": "execute_result"
    }
   ],
   "source": [
    "m"
   ]
  },
  {
   "cell_type": "code",
   "execution_count": 80,
   "id": "cb00b267",
   "metadata": {},
   "outputs": [
    {
     "data": {
      "text/plain": [
       "'India Is A Great Nation'"
      ]
     },
     "execution_count": 80,
     "metadata": {},
     "output_type": "execute_result"
    }
   ],
   "source": [
    "m.title()"
   ]
  },
  {
   "cell_type": "markdown",
   "id": "e9cd082a",
   "metadata": {},
   "source": [
    "# LIST"
   ]
  },
  {
   "cell_type": "code",
   "execution_count": 81,
   "id": "7f71db6e",
   "metadata": {},
   "outputs": [
    {
     "data": {
      "text/plain": [
       "[]"
      ]
     },
     "execution_count": 81,
     "metadata": {},
     "output_type": "execute_result"
    }
   ],
   "source": [
    "list()"
   ]
  },
  {
   "cell_type": "code",
   "execution_count": 83,
   "id": "bf38e3bb",
   "metadata": {},
   "outputs": [],
   "source": [
    "t=[]"
   ]
  },
  {
   "cell_type": "code",
   "execution_count": 84,
   "id": "d6a5dfd6",
   "metadata": {},
   "outputs": [
    {
     "data": {
      "text/plain": [
       "[]"
      ]
     },
     "execution_count": 84,
     "metadata": {},
     "output_type": "execute_result"
    }
   ],
   "source": [
    "t"
   ]
  },
  {
   "cell_type": "code",
   "execution_count": 85,
   "id": "e9160441",
   "metadata": {},
   "outputs": [
    {
     "data": {
      "text/plain": [
       "0"
      ]
     },
     "execution_count": 85,
     "metadata": {},
     "output_type": "execute_result"
    }
   ],
   "source": [
    "len(t)"
   ]
  },
  {
   "cell_type": "code",
   "execution_count": 86,
   "id": "04299c23",
   "metadata": {},
   "outputs": [
    {
     "data": {
      "text/plain": [
       "list"
      ]
     },
     "execution_count": 86,
     "metadata": {},
     "output_type": "execute_result"
    }
   ],
   "source": [
    "type(t)"
   ]
  },
  {
   "cell_type": "code",
   "execution_count": 87,
   "id": "d13f74e9",
   "metadata": {},
   "outputs": [],
   "source": [
    "l=['INDIA', 44, 4.3, 4+3j, True]"
   ]
  },
  {
   "cell_type": "code",
   "execution_count": 88,
   "id": "2788fa8b",
   "metadata": {},
   "outputs": [
    {
     "data": {
      "text/plain": [
       "['INDIA', 44, 4.3, (4+3j), True]"
      ]
     },
     "execution_count": 88,
     "metadata": {},
     "output_type": "execute_result"
    }
   ],
   "source": [
    "l"
   ]
  },
  {
   "cell_type": "code",
   "execution_count": 89,
   "id": "450eab8e",
   "metadata": {},
   "outputs": [
    {
     "data": {
      "text/plain": [
       "'INDIA'"
      ]
     },
     "execution_count": 89,
     "metadata": {},
     "output_type": "execute_result"
    }
   ],
   "source": [
    "l[0]"
   ]
  },
  {
   "cell_type": "code",
   "execution_count": 90,
   "id": "dcc9c074",
   "metadata": {},
   "outputs": [
    {
     "data": {
      "text/plain": [
       "44"
      ]
     },
     "execution_count": 90,
     "metadata": {},
     "output_type": "execute_result"
    }
   ],
   "source": [
    "l[1]"
   ]
  },
  {
   "cell_type": "code",
   "execution_count": 92,
   "id": "55bf7fb8",
   "metadata": {},
   "outputs": [
    {
     "data": {
      "text/plain": [
       "True"
      ]
     },
     "execution_count": 92,
     "metadata": {},
     "output_type": "execute_result"
    }
   ],
   "source": [
    "l[-1]"
   ]
  },
  {
   "cell_type": "code",
   "execution_count": 93,
   "id": "6c8da677",
   "metadata": {},
   "outputs": [
    {
     "data": {
      "text/plain": [
       "5"
      ]
     },
     "execution_count": 93,
     "metadata": {},
     "output_type": "execute_result"
    }
   ],
   "source": [
    "len(l)"
   ]
  },
  {
   "cell_type": "code",
   "execution_count": 94,
   "id": "69973859",
   "metadata": {},
   "outputs": [
    {
     "data": {
      "text/plain": [
       "['INDIA', 44, 4.3]"
      ]
     },
     "execution_count": 94,
     "metadata": {},
     "output_type": "execute_result"
    }
   ],
   "source": [
    "l[0:3]"
   ]
  },
  {
   "cell_type": "code",
   "execution_count": 95,
   "id": "cc324358",
   "metadata": {},
   "outputs": [
    {
     "data": {
      "text/plain": [
       "[4.3, (4+3j), True]"
      ]
     },
     "execution_count": 95,
     "metadata": {},
     "output_type": "execute_result"
    }
   ],
   "source": [
    "l[2:5]"
   ]
  },
  {
   "cell_type": "code",
   "execution_count": 96,
   "id": "3ac57d17",
   "metadata": {},
   "outputs": [],
   "source": [
    "l1=['INDIA', 123, True]\n",
    "l2=['Delhi', 23, False]"
   ]
  },
  {
   "cell_type": "code",
   "execution_count": 97,
   "id": "541f7a01",
   "metadata": {},
   "outputs": [
    {
     "data": {
      "text/plain": [
       "['INDIA', 123, True]"
      ]
     },
     "execution_count": 97,
     "metadata": {},
     "output_type": "execute_result"
    }
   ],
   "source": [
    "l1"
   ]
  },
  {
   "cell_type": "code",
   "execution_count": 98,
   "id": "4c238447",
   "metadata": {},
   "outputs": [
    {
     "data": {
      "text/plain": [
       "['Delhi', 23, False]"
      ]
     },
     "execution_count": 98,
     "metadata": {},
     "output_type": "execute_result"
    }
   ],
   "source": [
    "l2"
   ]
  },
  {
   "cell_type": "code",
   "execution_count": 99,
   "id": "f8415bfe",
   "metadata": {},
   "outputs": [],
   "source": [
    "l3=l1+l2"
   ]
  },
  {
   "cell_type": "code",
   "execution_count": 100,
   "id": "3c16c078",
   "metadata": {},
   "outputs": [
    {
     "data": {
      "text/plain": [
       "['INDIA', 123, True, 'Delhi', 23, False]"
      ]
     },
     "execution_count": 100,
     "metadata": {},
     "output_type": "execute_result"
    }
   ],
   "source": [
    "l3"
   ]
  },
  {
   "cell_type": "code",
   "execution_count": 102,
   "id": "2b79db6f",
   "metadata": {},
   "outputs": [
    {
     "data": {
      "text/plain": [
       "['INDIA', 123, True, 'Delhi', 23, False, 'Pune']"
      ]
     },
     "execution_count": 102,
     "metadata": {},
     "output_type": "execute_result"
    }
   ],
   "source": [
    "l3+['Pune']"
   ]
  },
  {
   "cell_type": "code",
   "execution_count": 103,
   "id": "cc43503c",
   "metadata": {},
   "outputs": [
    {
     "data": {
      "text/plain": [
       "['INDIA', 123, True, 'Delhi', 23, False]"
      ]
     },
     "execution_count": 103,
     "metadata": {},
     "output_type": "execute_result"
    }
   ],
   "source": [
    "l3"
   ]
  },
  {
   "cell_type": "code",
   "execution_count": 104,
   "id": "b4264af2",
   "metadata": {},
   "outputs": [
    {
     "data": {
      "text/plain": [
       "'INDIA'"
      ]
     },
     "execution_count": 104,
     "metadata": {},
     "output_type": "execute_result"
    }
   ],
   "source": [
    "l3.pop(0)"
   ]
  },
  {
   "cell_type": "code",
   "execution_count": 105,
   "id": "de48efa9",
   "metadata": {},
   "outputs": [
    {
     "data": {
      "text/plain": [
       "[123, True, 'Delhi', 23, False]"
      ]
     },
     "execution_count": 105,
     "metadata": {},
     "output_type": "execute_result"
    }
   ],
   "source": [
    "l3"
   ]
  },
  {
   "cell_type": "code",
   "execution_count": 106,
   "id": "4d80bbc8",
   "metadata": {},
   "outputs": [
    {
     "data": {
      "text/plain": [
       "23"
      ]
     },
     "execution_count": 106,
     "metadata": {},
     "output_type": "execute_result"
    }
   ],
   "source": [
    "l3.pop(3)"
   ]
  },
  {
   "cell_type": "code",
   "execution_count": 107,
   "id": "f3cceb4f",
   "metadata": {},
   "outputs": [
    {
     "data": {
      "text/plain": [
       "[123, True, 'Delhi', False]"
      ]
     },
     "execution_count": 107,
     "metadata": {},
     "output_type": "execute_result"
    }
   ],
   "source": [
    "l3"
   ]
  },
  {
   "cell_type": "markdown",
   "id": "00b8f54f",
   "metadata": {},
   "source": [
    "# Insertion"
   ]
  },
  {
   "cell_type": "code",
   "execution_count": 108,
   "id": "4e170c96",
   "metadata": {},
   "outputs": [],
   "source": [
    "l3.insert(0, 'Jay')"
   ]
  },
  {
   "cell_type": "code",
   "execution_count": 109,
   "id": "46f7f564",
   "metadata": {},
   "outputs": [
    {
     "data": {
      "text/plain": [
       "['Jay', 123, True, 'Delhi', False]"
      ]
     },
     "execution_count": 109,
     "metadata": {},
     "output_type": "execute_result"
    }
   ],
   "source": [
    "l3"
   ]
  },
  {
   "cell_type": "markdown",
   "id": "c80dbf56",
   "metadata": {},
   "source": [
    "# Nested list"
   ]
  },
  {
   "cell_type": "code",
   "execution_count": 110,
   "id": "98071780",
   "metadata": {},
   "outputs": [],
   "source": [
    "l3.insert(-1,[1,2,3])"
   ]
  },
  {
   "cell_type": "code",
   "execution_count": 111,
   "id": "da957abf",
   "metadata": {},
   "outputs": [
    {
     "data": {
      "text/plain": [
       "['Jay', 123, True, 'Delhi', [1, 2, 3], False]"
      ]
     },
     "execution_count": 111,
     "metadata": {},
     "output_type": "execute_result"
    }
   ],
   "source": [
    "l3"
   ]
  },
  {
   "cell_type": "code",
   "execution_count": 112,
   "id": "ced23b05",
   "metadata": {},
   "outputs": [
    {
     "data": {
      "text/plain": [
       "[1, 2, 3]"
      ]
     },
     "execution_count": 112,
     "metadata": {},
     "output_type": "execute_result"
    }
   ],
   "source": [
    "l3[-2]"
   ]
  },
  {
   "cell_type": "code",
   "execution_count": 113,
   "id": "77350983",
   "metadata": {},
   "outputs": [
    {
     "data": {
      "text/plain": [
       "2"
      ]
     },
     "execution_count": 113,
     "metadata": {},
     "output_type": "execute_result"
    }
   ],
   "source": [
    "l3[-2][-2]"
   ]
  },
  {
   "cell_type": "code",
   "execution_count": 116,
   "id": "be3734e1",
   "metadata": {},
   "outputs": [
    {
     "data": {
      "text/plain": [
       "1"
      ]
     },
     "execution_count": 116,
     "metadata": {},
     "output_type": "execute_result"
    }
   ],
   "source": [
    "l3[4][0]"
   ]
  },
  {
   "cell_type": "code",
   "execution_count": 117,
   "id": "4d4b8ee0",
   "metadata": {},
   "outputs": [
    {
     "data": {
      "text/plain": [
       "3"
      ]
     },
     "execution_count": 117,
     "metadata": {},
     "output_type": "execute_result"
    }
   ],
   "source": [
    "l3[4][-1]"
   ]
  },
  {
   "cell_type": "code",
   "execution_count": 119,
   "id": "6b1efb7b",
   "metadata": {},
   "outputs": [
    {
     "data": {
      "text/plain": [
       "[False, [1, 2, 3], 'Delhi', True, 123, 'Jay']"
      ]
     },
     "execution_count": 119,
     "metadata": {},
     "output_type": "execute_result"
    }
   ],
   "source": [
    "l3[::-1]"
   ]
  },
  {
   "cell_type": "code",
   "execution_count": 120,
   "id": "4d8456d1",
   "metadata": {},
   "outputs": [],
   "source": [
    "l3.append('Mumbai')"
   ]
  },
  {
   "cell_type": "code",
   "execution_count": 121,
   "id": "63cdc2a4",
   "metadata": {},
   "outputs": [
    {
     "data": {
      "text/plain": [
       "['Jay', 123, True, 'Delhi', [1, 2, 3], False, 'Mumbai']"
      ]
     },
     "execution_count": 121,
     "metadata": {},
     "output_type": "execute_result"
    }
   ],
   "source": [
    "l3"
   ]
  },
  {
   "cell_type": "code",
   "execution_count": 122,
   "id": "e61ce236",
   "metadata": {},
   "outputs": [],
   "source": [
    "l4=[38, 13, 55, 3, 40, 58, 0, 42, 28, 8]"
   ]
  },
  {
   "cell_type": "code",
   "execution_count": 123,
   "id": "28a88552",
   "metadata": {},
   "outputs": [
    {
     "data": {
      "text/plain": [
       "[38, 13, 55, 3, 40, 58, 0, 42, 28, 8]"
      ]
     },
     "execution_count": 123,
     "metadata": {},
     "output_type": "execute_result"
    }
   ],
   "source": [
    "l4"
   ]
  },
  {
   "cell_type": "code",
   "execution_count": 124,
   "id": "0664e686",
   "metadata": {},
   "outputs": [],
   "source": [
    "l4.sort()"
   ]
  },
  {
   "cell_type": "code",
   "execution_count": 125,
   "id": "4689009e",
   "metadata": {},
   "outputs": [
    {
     "data": {
      "text/plain": [
       "[0, 3, 8, 13, 28, 38, 40, 42, 55, 58]"
      ]
     },
     "execution_count": 125,
     "metadata": {},
     "output_type": "execute_result"
    }
   ],
   "source": [
    "l4"
   ]
  },
  {
   "cell_type": "code",
   "execution_count": 127,
   "id": "aba00701",
   "metadata": {},
   "outputs": [
    {
     "data": {
      "text/plain": [
       "[58, 55, 42, 40, 38, 28, 13, 8, 3, 0]"
      ]
     },
     "execution_count": 127,
     "metadata": {},
     "output_type": "execute_result"
    }
   ],
   "source": [
    "l4.sort(reverse=True)\n",
    "l4"
   ]
  },
  {
   "cell_type": "code",
   "execution_count": 129,
   "id": "c12ef4f5",
   "metadata": {},
   "outputs": [],
   "source": [
    "l4.clear()"
   ]
  },
  {
   "cell_type": "code",
   "execution_count": 130,
   "id": "c27c9c67",
   "metadata": {},
   "outputs": [
    {
     "data": {
      "text/plain": [
       "[]"
      ]
     },
     "execution_count": 130,
     "metadata": {},
     "output_type": "execute_result"
    }
   ],
   "source": [
    "l4"
   ]
  },
  {
   "cell_type": "code",
   "execution_count": null,
   "id": "9c4a1179",
   "metadata": {},
   "outputs": [],
   "source": []
  },
  {
   "cell_type": "code",
   "execution_count": null,
   "id": "05517eeb",
   "metadata": {},
   "outputs": [],
   "source": []
  },
  {
   "cell_type": "markdown",
   "id": "16711602",
   "metadata": {},
   "source": [
    "# Conditioning"
   ]
  },
  {
   "cell_type": "code",
   "execution_count": 132,
   "id": "3fb3a0a0",
   "metadata": {},
   "outputs": [],
   "source": [
    "Yash=45"
   ]
  },
  {
   "cell_type": "code",
   "execution_count": 135,
   "id": "673224e8",
   "metadata": {},
   "outputs": [
    {
     "name": "stdout",
     "output_type": "stream",
     "text": [
      "Yash:- Pass\n"
     ]
    }
   ],
   "source": [
    "if Yash > 35:\n",
    "    print(\"Yash:- Pass\")"
   ]
  },
  {
   "cell_type": "code",
   "execution_count": 137,
   "id": "1ec73ac5",
   "metadata": {},
   "outputs": [],
   "source": [
    "a=20"
   ]
  },
  {
   "cell_type": "code",
   "execution_count": 138,
   "id": "d6e6114a",
   "metadata": {},
   "outputs": [
    {
     "name": "stdout",
     "output_type": "stream",
     "text": [
      "a is grater than 10\n"
     ]
    }
   ],
   "source": [
    "if a > 10:\n",
    "    print('a is grater than 10')"
   ]
  },
  {
   "cell_type": "code",
   "execution_count": 139,
   "id": "9f3c05ad",
   "metadata": {},
   "outputs": [
    {
     "data": {
      "text/plain": [
       "False"
      ]
     },
     "execution_count": 139,
     "metadata": {},
     "output_type": "execute_result"
    }
   ],
   "source": [
    "a < 10"
   ]
  },
  {
   "cell_type": "code",
   "execution_count": 140,
   "id": "5752f81c",
   "metadata": {},
   "outputs": [
    {
     "name": "stdout",
     "output_type": "stream",
     "text": [
      "Result:-Pass\n"
     ]
    }
   ],
   "source": [
    "score=95\n",
    "if score > 35:\n",
    "    print('Result:-Pass')\n",
    "else:\n",
    "    print('Result:-Fail')"
   ]
  },
  {
   "cell_type": "code",
   "execution_count": 141,
   "id": "02279c0b",
   "metadata": {},
   "outputs": [
    {
     "name": "stdout",
     "output_type": "stream",
     "text": [
      "Result:-Fail\n"
     ]
    }
   ],
   "source": [
    "score=20\n",
    "if score > 35:\n",
    "    print('Result:-Pass')\n",
    "else:\n",
    "    print('Result:-Fail')"
   ]
  },
  {
   "cell_type": "code",
   "execution_count": 145,
   "id": "0cb66645",
   "metadata": {},
   "outputs": [
    {
     "name": "stdout",
     "output_type": "stream",
     "text": [
      "10 is even\n"
     ]
    }
   ],
   "source": [
    "n=10\n",
    "\n",
    "if n%2 == 0:\n",
    "    print(f'{n} is even')\n",
    "else:\n",
    "    print(f'{n} is odd')"
   ]
  },
  {
   "cell_type": "code",
   "execution_count": 146,
   "id": "ee3cd42c",
   "metadata": {},
   "outputs": [
    {
     "name": "stdout",
     "output_type": "stream",
     "text": [
      "9 is odd\n"
     ]
    }
   ],
   "source": [
    "n=9\n",
    "\n",
    "if n%2 == 0:\n",
    "    print(f'{n} is even')\n",
    "else:\n",
    "    print(f'{n} is odd')"
   ]
  },
  {
   "cell_type": "code",
   "execution_count": 147,
   "id": "fc479333",
   "metadata": {},
   "outputs": [
    {
     "name": "stdout",
     "output_type": "stream",
     "text": [
      "-5 is negative\n"
     ]
    }
   ],
   "source": [
    "n=-5\n",
    "\n",
    "if n > 0:\n",
    "    print(f'{n} is positive')\n",
    "else:\n",
    "    print(f'{n} is negative')"
   ]
  },
  {
   "cell_type": "code",
   "execution_count": 148,
   "id": "30be3fc2",
   "metadata": {},
   "outputs": [
    {
     "name": "stdout",
     "output_type": "stream",
     "text": [
      "99\n",
      "99.0 is positive\n"
     ]
    }
   ],
   "source": [
    "n=float(input())\n",
    "\n",
    "if n > 0:\n",
    "    print(f'{n} is positive')\n",
    "else:\n",
    "    print(f'{n} is negative')"
   ]
  },
  {
   "cell_type": "code",
   "execution_count": 149,
   "id": "851b0acd",
   "metadata": {},
   "outputs": [
    {
     "name": "stdout",
     "output_type": "stream",
     "text": [
      "Please enter any number= -6\n",
      "-6.0 is negative\n"
     ]
    }
   ],
   "source": [
    "n=float(input(\"Please enter any number= \"))\n",
    "\n",
    "if n > 0:\n",
    "    print(f'{n} is positive')\n",
    "else:\n",
    "    print(f'{n} is negative')"
   ]
  },
  {
   "cell_type": "code",
   "execution_count": 150,
   "id": "a3c2ffa2",
   "metadata": {},
   "outputs": [
    {
     "name": "stdout",
     "output_type": "stream",
     "text": [
      "Enter income amount within range 1 to 100= 77\n",
      "You can affort to bye bike\n"
     ]
    }
   ],
   "source": [
    "\n",
    "income=float(input(\"Enter income amount within range 1 to 100= \"))\n",
    "if income > 50:\n",
    "    print('You can affort to bye bike')\n",
    "elif income > 70:\n",
    "    print('You can affort to bye iphone')\n",
    "elif income > 90:\n",
    "    print('You can affort to bye home')\n",
    "else:\n",
    "    print('You can not affort to bye anything')"
   ]
  },
  {
   "cell_type": "code",
   "execution_count": 151,
   "id": "2d56b932",
   "metadata": {},
   "outputs": [
    {
     "name": "stdout",
     "output_type": "stream",
     "text": [
      "Enter income amount within range 1 to 100= 40\n",
      "You can not affort to bye anything\n"
     ]
    }
   ],
   "source": [
    "income=float(input(\"Enter income amount within range 1 to 100= \"))\n",
    "if income > 50:\n",
    "    print('You can affort to bye bike')\n",
    "elif income > 70:\n",
    "    print('You can affort to bye iphone')\n",
    "elif income > 90:\n",
    "    print('You can affort to bye home')\n",
    "else:\n",
    "    print('You can not affort to bye anything')"
   ]
  },
  {
   "cell_type": "code",
   "execution_count": 155,
   "id": "b49f0aeb",
   "metadata": {},
   "outputs": [
    {
     "name": "stdout",
     "output_type": "stream",
     "text": [
      "Enter income amount within range 1 to 100= 86\n",
      "You can affort to bye iphone\n"
     ]
    }
   ],
   "source": [
    "income=float(input(\"Enter income amount within range 1 to 100= \"))\n",
    "if 70 > income > 50:\n",
    "    print('You can affort to bye bike')\n",
    "elif 90 > income > 70:\n",
    "    print('You can affort to bye iphone')\n",
    "elif income > 90:\n",
    "    print('You can affort to bye home')\n",
    "else:\n",
    "    print('You can not affort to bye anything')"
   ]
  },
  {
   "cell_type": "code",
   "execution_count": 156,
   "id": "94d293fd",
   "metadata": {},
   "outputs": [
    {
     "name": "stdout",
     "output_type": "stream",
     "text": [
      "Enter income amount within range 1 to 100= 55\n",
      "You can affort to bye bike\n"
     ]
    }
   ],
   "source": [
    "income=float(input(\"Enter income amount within range 1 to 100= \"))\n",
    "if 70 > income > 50:\n",
    "    print('You can affort to bye bike')\n",
    "elif 90 > income > 70:\n",
    "    print('You can affort to bye iphone')\n",
    "elif income > 90:\n",
    "    print('You can affort to bye home')\n",
    "else:\n",
    "    print('You can not affort to bye anything')"
   ]
  },
  {
   "cell_type": "code",
   "execution_count": 157,
   "id": "d58c85fb",
   "metadata": {},
   "outputs": [
    {
     "name": "stdout",
     "output_type": "stream",
     "text": [
      "Enter income amount within range 1 to 100= 78\n",
      "You can affort to bye iphone\n"
     ]
    }
   ],
   "source": [
    "income=float(input(\"Enter income amount within range 1 to 100= \"))\n",
    "if 70 > income > 50:\n",
    "    print('You can affort to bye bike')\n",
    "elif 90 > income > 70:\n",
    "    print('You can affort to bye iphone')\n",
    "elif income > 90:\n",
    "    print('You can affort to bye home')\n",
    "else:\n",
    "    print('You can not affort to bye anything')"
   ]
  },
  {
   "cell_type": "code",
   "execution_count": null,
   "id": "fd36685c",
   "metadata": {},
   "outputs": [],
   "source": []
  }
 ],
 "metadata": {
  "kernelspec": {
   "display_name": "Python 3 (ipykernel)",
   "language": "python",
   "name": "python3"
  },
  "language_info": {
   "codemirror_mode": {
    "name": "ipython",
    "version": 3
   },
   "file_extension": ".py",
   "mimetype": "text/x-python",
   "name": "python",
   "nbconvert_exporter": "python",
   "pygments_lexer": "ipython3",
   "version": "3.11.5"
  }
 },
 "nbformat": 4,
 "nbformat_minor": 5
}
